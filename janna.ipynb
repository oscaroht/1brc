{
 "cells": [
  {
   "cell_type": "code",
   "execution_count": 8,
   "metadata": {},
   "outputs": [],
   "source": [
    "import polars as pl\n",
    "import pandas as pd"
   ]
  },
  {
   "cell_type": "code",
   "execution_count": null,
   "metadata": {},
   "outputs": [
    {
     "name": "stdout",
     "output_type": "stream",
     "text": [
      "CPU times: user 1.3 ms, sys: 3.64 ms, total: 4.94 ms\n",
      "Wall time: 5.7 ms\n"
     ]
    }
   ],
   "source": [
    "%%time\n",
    "\n",
    "df_pl = pl.scan_csv('measurements.txt',schema_overrides = {'City':str, 'Temp':float}, separator=\";\")\n",
    "df_pl.collect().head()"
   ]
  },
  {
   "cell_type": "code",
   "execution_count": 5,
   "metadata": {},
   "outputs": [
    {
     "name": "stdout",
     "output_type": "stream",
     "text": [
      "CPU times: user 1min 35s, sys: 2min 53s, total: 4min 29s\n",
      "Wall time: 5min 20s\n"
     ]
    },
    {
     "data": {
      "text/html": [
       "<div><style>\n",
       ".dataframe > thead > tr,\n",
       ".dataframe > tbody > tr {\n",
       "  text-align: right;\n",
       "  white-space: pre-wrap;\n",
       "}\n",
       "</style>\n",
       "<small>shape: (413, 4)</small><table border=\"1\" class=\"dataframe\"><thead><tr><th>City</th><th>Temp_mean</th><th>Temp_min</th><th>Temp_max</th></tr><tr><td>str</td><td>f64</td><td>f64</td><td>f64</td></tr></thead><tbody><tr><td>&quot;Timbuktu&quot;</td><td>27.995775</td><td>-27.1</td><td>79.5</td></tr><tr><td>&quot;Lahore&quot;</td><td>24.300126</td><td>-26.1</td><td>74.4</td></tr><tr><td>&quot;Vientiane&quot;</td><td>25.905933</td><td>-22.1</td><td>71.7</td></tr><tr><td>&quot;Sana&#x27;a&quot;</td><td>20.005642</td><td>-29.1</td><td>70.6</td></tr><tr><td>&quot;Austin&quot;</td><td>20.702303</td><td>-27.5</td><td>68.8</td></tr><tr><td>&hellip;</td><td>&hellip;</td><td>&hellip;</td><td>&hellip;</td></tr><tr><td>&quot;Thiès&quot;</td><td>24.005168</td><td>-26.7</td><td>74.0</td></tr><tr><td>&quot;Upington&quot;</td><td>20.400324</td><td>-26.5</td><td>70.1</td></tr><tr><td>&quot;Athens&quot;</td><td>19.20125</td><td>-27.2</td><td>69.7</td></tr><tr><td>&quot;Rome&quot;</td><td>15.191299</td><td>-36.9</td><td>65.3</td></tr><tr><td>&quot;Cairns&quot;</td><td>25.001409</td><td>-22.6</td><td>74.1</td></tr></tbody></table></div>"
      ],
      "text/plain": [
       "shape: (413, 4)\n",
       "┌───────────┬───────────┬──────────┬──────────┐\n",
       "│ City      ┆ Temp_mean ┆ Temp_min ┆ Temp_max │\n",
       "│ ---       ┆ ---       ┆ ---      ┆ ---      │\n",
       "│ str       ┆ f64       ┆ f64      ┆ f64      │\n",
       "╞═══════════╪═══════════╪══════════╪══════════╡\n",
       "│ Timbuktu  ┆ 27.995775 ┆ -27.1    ┆ 79.5     │\n",
       "│ Lahore    ┆ 24.300126 ┆ -26.1    ┆ 74.4     │\n",
       "│ Vientiane ┆ 25.905933 ┆ -22.1    ┆ 71.7     │\n",
       "│ Sana'a    ┆ 20.005642 ┆ -29.1    ┆ 70.6     │\n",
       "│ Austin    ┆ 20.702303 ┆ -27.5    ┆ 68.8     │\n",
       "│ …         ┆ …         ┆ …        ┆ …        │\n",
       "│ Thiès     ┆ 24.005168 ┆ -26.7    ┆ 74.0     │\n",
       "│ Upington  ┆ 20.400324 ┆ -26.5    ┆ 70.1     │\n",
       "│ Athens    ┆ 19.20125  ┆ -27.2    ┆ 69.7     │\n",
       "│ Rome      ┆ 15.191299 ┆ -36.9    ┆ 65.3     │\n",
       "│ Cairns    ┆ 25.001409 ┆ -22.6    ┆ 74.1     │\n",
       "└───────────┴───────────┴──────────┴──────────┘"
      ]
     },
     "execution_count": 5,
     "metadata": {},
     "output_type": "execute_result"
    }
   ],
   "source": [
    "%%time\n",
    "df_pl.group_by(\"City\").agg(pl.mean(\"Temp\").name.suffix(\"_mean\"),pl.min(\"Temp\").name.suffix(\"_min\"), pl.max(\"Temp\").name.suffix(\"_max\")).collect()"
   ]
  },
  {
   "cell_type": "code",
   "execution_count": 3,
   "metadata": {},
   "outputs": [],
   "source": [
    "def calc_mean_min_max(df_pl: pl.LazyFrame):\n",
    "    return (df_pl\n",
    "            .group_by('City').agg(pl.mean(\"Temp\").name.suffix(\"_mean\"), \n",
    "                                  pl.min(\"Temp\").name.suffix(\"_min\"), \n",
    "                                  pl.max(\"Temp\").name.suffix(\"_max\")).lazy()\n",
    "           )"
   ]
  },
  {
   "cell_type": "code",
   "execution_count": 7,
   "metadata": {},
   "outputs": [
    {
     "name": "stdout",
     "output_type": "stream",
     "text": [
      "CPU times: user 855 μs, sys: 3.99 ms, total: 4.85 ms\n",
      "Wall time: 17.7 ms\n"
     ]
    },
    {
     "data": {
      "text/plain": [
       "'AGGREGATE\\n  [col(\"Temp\").mean().alias(\"Temp_mean\"), col(\"Temp\").min().alias(\"Temp_min\"), col(\"Temp\").max().alias(\"Temp_max\")] BY [col(\"City\")]\\n  FROM\\n  simple π 2/2 [\"Temp\", \"City\"]\\n    Csv SCAN [measurements.txt]\\n    PROJECT 2/2 COLUMNS'"
      ]
     },
     "execution_count": 7,
     "metadata": {},
     "output_type": "execute_result"
    }
   ],
   "source": [
    "%%time\n",
    "df_pl.pipe(calc_mean_min_max).explain(optimized=True)"
   ]
  },
  {
   "cell_type": "code",
   "execution_count": 8,
   "metadata": {},
   "outputs": [
    {
     "name": "stdout",
     "output_type": "stream",
     "text": [
      "CPU times: user 1min 36s, sys: 3min 46s, total: 5min 23s\n",
      "Wall time: 5min 56s\n"
     ]
    },
    {
     "data": {
      "text/html": [
       "<div><style>\n",
       ".dataframe > thead > tr,\n",
       ".dataframe > tbody > tr {\n",
       "  text-align: right;\n",
       "  white-space: pre-wrap;\n",
       "}\n",
       "</style>\n",
       "<small>shape: (5, 4)</small><table border=\"1\" class=\"dataframe\"><thead><tr><th>City</th><th>Temp_mean</th><th>Temp_min</th><th>Temp_max</th></tr><tr><td>str</td><td>f64</td><td>f64</td><td>f64</td></tr></thead><tbody><tr><td>&quot;Tirana&quot;</td><td>15.210402</td><td>-33.3</td><td>62.8</td></tr><tr><td>&quot;Beijing&quot;</td><td>12.900069</td><td>-37.7</td><td>64.6</td></tr><tr><td>&quot;Skopje&quot;</td><td>12.407986</td><td>-37.5</td><td>63.5</td></tr><tr><td>&quot;Yinchuan&quot;</td><td>9.006627</td><td>-39.3</td><td>57.6</td></tr><tr><td>&quot;Alexandria&quot;</td><td>19.99194</td><td>-30.4</td><td>68.8</td></tr></tbody></table></div>"
      ],
      "text/plain": [
       "shape: (5, 4)\n",
       "┌────────────┬───────────┬──────────┬──────────┐\n",
       "│ City       ┆ Temp_mean ┆ Temp_min ┆ Temp_max │\n",
       "│ ---        ┆ ---       ┆ ---      ┆ ---      │\n",
       "│ str        ┆ f64       ┆ f64      ┆ f64      │\n",
       "╞════════════╪═══════════╪══════════╪══════════╡\n",
       "│ Tirana     ┆ 15.210402 ┆ -33.3    ┆ 62.8     │\n",
       "│ Beijing    ┆ 12.900069 ┆ -37.7    ┆ 64.6     │\n",
       "│ Skopje     ┆ 12.407986 ┆ -37.5    ┆ 63.5     │\n",
       "│ Yinchuan   ┆ 9.006627  ┆ -39.3    ┆ 57.6     │\n",
       "│ Alexandria ┆ 19.99194  ┆ -30.4    ┆ 68.8     │\n",
       "└────────────┴───────────┴──────────┴──────────┘"
      ]
     },
     "execution_count": 8,
     "metadata": {},
     "output_type": "execute_result"
    }
   ],
   "source": [
    "%%time\n",
    "df_pl.pipe(calc_mean_min_max).collect().head()"
   ]
  },
  {
   "cell_type": "code",
   "execution_count": 5,
   "metadata": {},
   "outputs": [
    {
     "name": "stdout",
     "output_type": "stream",
     "text": [
      "CPU times: user 1min 38s, sys: 4min 24s, total: 6min 2s\n",
      "Wall time: 6min 16s\n"
     ]
    }
   ],
   "source": [
    "%%time\n",
    "result= df_pl.pipe(calc_mean_min_max).collect()"
   ]
  },
  {
   "cell_type": "code",
   "execution_count": 14,
   "metadata": {},
   "outputs": [],
   "source": [
    "result.write_csv(\"result.csv\")"
   ]
  }
 ],
 "metadata": {
  "kernelspec": {
   "display_name": ".venv",
   "language": "python",
   "name": "python3"
  },
  "language_info": {
   "codemirror_mode": {
    "name": "ipython",
    "version": 3
   },
   "file_extension": ".py",
   "mimetype": "text/x-python",
   "name": "python",
   "nbconvert_exporter": "python",
   "pygments_lexer": "ipython3",
   "version": "3.13.0"
  }
 },
 "nbformat": 4,
 "nbformat_minor": 2
}
